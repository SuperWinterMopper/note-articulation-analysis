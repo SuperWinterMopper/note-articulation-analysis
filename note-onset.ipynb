{
 "cells": [
  {
   "cell_type": "code",
   "execution_count": 35,
   "id": "d863e165",
   "metadata": {},
   "outputs": [],
   "source": [
    "import numpy as np\n",
    "\n",
    "from numpy.fft import fft, fftshift, fftfreq\n",
    "from matplotlib import pyplot as plt\n",
    "import ffmpeg\n",
    "\n",
    "def get_audio_data(mp4_file):\n",
    "    probe = ffmpeg.probe(mp4_file)\n",
    "    audio_stream = next((stream for stream in probe['streams'] \n",
    "                        if stream['codec_type'] == 'audio'), None)\n",
    "    \n",
    "    if audio_stream is None:\n",
    "        raise ValueError(f\"No audio stream found in {mp4_file}\")\n",
    "    \n",
    "    sr = int(audio_stream['sample_rate'])\n",
    "    channels = int(audio_stream['channels'])\n",
    "    \n",
    "    out, _ = (\n",
    "        ffmpeg\n",
    "        .input(mp4_file)\n",
    "        .output('-', format='s16le', acodec='pcm_s16le')\n",
    "        .run(capture_stdout=True, capture_stderr=True)\n",
    "    )\n",
    "    \n",
    "    audio_array = np.frombuffer(out, dtype=np.int16)\n",
    "    \n",
    "    if channels > 1:\n",
    "        audio_array = audio_array.reshape(-1, channels)\n",
    "        ys = audio_array.mean(axis=1)\n",
    "    else:\n",
    "        ys = audio_array\n",
    "    \n",
    "    ys = ys / np.iinfo(np.int16).max\n",
    "    \n",
    "    num_samples = len(ys)\n",
    "    ts = np.arange(num_samples) / sr\n",
    "    \n",
    "    return ys, ts, sr\n",
    "\n",
    "def plot_fft(xs, ys):\n",
    "    plt.xlabel(\"Frequency (Hz)\")\n",
    "    plt.ylabel(\"Amplitude\")\n",
    "    plt.title(\"FFT\")\n",
    "    plt.xlim(0, 3000)\n",
    "    plt.plot(xs, np.abs(ys))\n",
    "    plt.savefig(\"FFT Plot\")\n",
    "\n",
    "def plotMagSpec(time_frames, freq_bins, frame_freq_amps):\n",
    "    plt.figure(figsize=(12, 6))\n",
    "    plt.subplot(211)\n",
    "    plt.pcolormesh(time_frames, freq_bins, frame_freq_amps, shading='gouraud')\n",
    "    plt.title('Magnitude Spectrogram')\n",
    "    plt.ylabel('Frequency (Hz)')\n",
    "    plt.xlabel('Time (s)')\n",
    "    plt.colorbar()\n",
    "    plt.ylim(0, 3000)\n",
    "\n",
    "def get_fft(ys, sr):\n",
    "    n = len(ys)\n",
    "    \n",
    "    window = np.hamming(n)\n",
    "\n",
    "    ys *= window\n",
    "\n",
    "    scale = 1.0 / np.sum(window) * n\n",
    "\n",
    "    amps = fft(ys) / n\n",
    "    amps[1:n//2] *= 2\n",
    "    amps = amps[:n//2]\n",
    "    amps *= scale\n",
    "    freq_bins = fftfreq(n, d=1/sr)[:n//2]\n",
    "    return freq_bins, amps"
   ]
  },
  {
   "cell_type": "code",
   "execution_count": 36,
   "id": "cc5f60b7",
   "metadata": {},
   "outputs": [],
   "source": [
    "def magnitudeSpectrogram(ys, ts, sr):\n",
    "    fr_len = .002 # 20ms frames\n",
    "    hop_length = int(sr * fr_len)\n",
    "    \n",
    "    frame_freq_amps = []\n",
    "    time_frames = []\n",
    "\n",
    "    # Process first frame to get dimensions\n",
    "    frame_ys = ys[0:hop_length]\n",
    "    freq_bins, _ = get_fft(frame_ys, sr)\n",
    "    \n",
    "    for i in range(0, len(ys) - hop_length + 1, hop_length // 2):\n",
    "        frame_ys = ys[i:i + hop_length].copy()\n",
    "        _, amps = get_fft(frame_ys, sr)\n",
    "        frame_freq_amps.append(np.abs(amps))\n",
    "        time_frames.append(ts[i + hop_length // 2])\n",
    "    \n",
    "    time_frames = np.array(time_frames)\n",
    "    frame_freq_amps = np.column_stack(frame_freq_amps)\n",
    "    # plotMagSpec(time_frames=time_frames, freq_bins=freq_bins, frame_freq_amps=frame_freq_amps)\n",
    "    return time_frames, frame_freq_amps\n",
    "\n",
    "def computeSpectralFlux(time_frames, frame_freq_amps):\n",
    "    # note that frame_freq_amps is already magnitude\n",
    "    spec_flux = np.zeros(len(time_frames) - 1)\n",
    "\n",
    "    assert(len(time_frames) == len(frame_freq_amps[0]))\n",
    "\n",
    "    for t in range(1, len(time_frames)):\n",
    "        flux = 0\n",
    "        for f in range(len(frame_freq_amps)):\n",
    "            # we half-wave rectify, so this only computes positive changes in\n",
    "            flux += max(frame_freq_amps[f][t] - frame_freq_amps[f][t - 1], 0) \n",
    "        spec_flux[t - 1] = flux\n",
    "\n",
    "    # Normalize spec_flux\n",
    "    spec_flux /= max(spec_flux)\n",
    "    \n",
    "    spec_flux = np.array(spec_flux)\n",
    "    return time_frames[1:], spec_flux # skip the first in time_frames due to difference calculation"
   ]
  },
  {
   "cell_type": "code",
   "execution_count": null,
   "id": "25675e08",
   "metadata": {},
   "outputs": [
    {
     "data": {
      "text/plain": [
       "<StemContainer object of 3 artists>"
      ]
     },
     "execution_count": 47,
     "metadata": {},
     "output_type": "execute_result"
    },
    {
     "data": {
      "image/png": "[encoded data removed]",
      "text/plain": [
       "<Figure size 640x480 with 1 Axes>"
      ]
     },
     "metadata": {},
     "output_type": "display_data"
    }
   ],
   "source": [
    "ys, ts, sr = get_audio_data(\"ex.mp4\")\n",
    "ts_fr, fr_freq_amps = magnitudeSpectrogram(ys, ts, sr)\n",
    "ts_fr, spec_flux = computeSpectralFlux(ts_fr, fr_freq_amps)\n",
    "\n",
    "plt.title(\"Spectral Flux\")\n",
    "plt.plot(ts_fr, spec_flux)\n",
    "\n",
    "note_changes = np.linspace(0, ts[-1], 17)\n",
    "plt.stem(note_changes, [1 for _ in range(len(note_changes))], markerfmt=\"r\")"
   ]
  }
 ],
 "metadata": {
  "kernelspec": {
   "display_name": "DSP_ML",
   "language": "python",
   "name": "python3"
  },
  "language_info": {
   "codemirror_mode": {
    "name": "ipython",
    "version": 3
   },
   "file_extension": ".py",
   "mimetype": "text/x-python",
   "name": "python",
   "nbconvert_exporter": "python",
   "pygments_lexer": "ipython3",
   "version": "3.10.18"
  }
 },
 "nbformat": 4,
 "nbformat_minor": 5
}

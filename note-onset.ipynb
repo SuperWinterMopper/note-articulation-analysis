{
 "cells": [
  {
   "cell_type": "code",
   "execution_count": 5,
   "id": "d863e165",
   "metadata": {},
   "outputs": [
    {
     "name": "stdout",
     "output_type": "stream",
     "text": [
      "For exercise ex1WholeMod.mp4, Note count Actual:\t90, Note count Detected: \t47 | Accuracy: \t0.5222222222222223\n",
      "For exercise ex1WholeModF.mp4, Note count Actual:\t90, Note count Detected: \t38 | Accuracy: \t0.4222222222222222\n",
      "For exercise ex2WholeMod.mp4, Note count Actual:\t49, Note count Detected: \t147 | Accuracy: \t0.3333333333333333\n",
      "For exercise ex3WholeMod.mp4, Note count Actual:\t145, Note count Detected: \t232 | Accuracy: \t0.625\n",
      "For exercise ex3WholeModF.mp4, Note count Actual:\t145, Note count Detected: \t149 | Accuracy: \t0.9731543624161074\n",
      "For exercise ex4WholeMod.mp4, Note count Actual:\t102, Note count Detected: \t203 | Accuracy: \t0.5024630541871922\n",
      "For exercise ex4WholeModF.mp4, Note count Actual:\t102, Note count Detected: \t149 | Accuracy: \t0.6845637583892618\n",
      "For exercise ex5WholeMod.mp4, Note count Actual:\t133, Note count Detected: \t279 | Accuracy: \t0.4767025089605735\n",
      "For exercise ex5WholeModF.mp4, Note count Actual:\t133, Note count Detected: \t221 | Accuracy: \t0.6018099547511312\n",
      "For exercise ex6WholeMod.mp4, Note count Actual:\t118, Note count Detected: \t111 | Accuracy: \t0.940677966101695\n",
      "For exercise ex6WholeModF.mp4, Note count Actual:\t118, Note count Detected: \t110 | Accuracy: \t0.9322033898305084\n",
      "For exercise ex7WholeMod.mp4, Note count Actual:\t86, Note count Detected: \t208 | Accuracy: \t0.41346153846153844\n",
      "For exercise ex8WholeMod.mp4, Note count Actual:\t112, Note count Detected: \t108 | Accuracy: \t0.9642857142857143\n",
      "For exercise ex8WholeModF.mp4, Note count Actual:\t112, Note count Detected: \t104 | Accuracy: \t0.9285714285714286\n",
      "For exercise ex9WholeMod.mp4, Note count Actual:\t121, Note count Detected: \t103 | Accuracy: \t0.8512396694214877\n",
      "For exercise ex10WholeMod.mp4, Note count Actual:\t102, Note count Detected: \t109 | Accuracy: \t0.9357798165137615\n"
     ]
    }
   ],
   "source": [
    "import numpy as np\n",
    "from scipy.ndimage import gaussian_filter1d\n",
    "from scipy.signal import medfilt\n",
    "\n",
    "from numpy.fft import fft, fftshift, fftfreq\n",
    "from matplotlib import pyplot as plt\n",
    "from pathlib import Path\n",
    "import ffmpeg, librosa\n",
    "\n",
    "import helpers\n",
    "\n",
    "# Driver\n",
    "\n",
    "exerciseNoteCounts = [\n",
    "    [\"ex1WholeMod.mp4\", 90, .3,  .4],\n",
    "    [\"ex1WholeModF.mp4\", 90, .3, .4],\n",
    "    [\"ex2WholeMod.mp4\", 49, .15, 0.15],\n",
    "    [\"ex3WholeMod.mp4\", 145, .15, 0.15],\n",
    "    [\"ex3WholeModF.mp4\", 145, .15, 0.15],\n",
    "    [\"ex4WholeMod.mp4\", 102, .15, 0.15],\n",
    "    [\"ex4WholeModF.mp4\", 102, .15, 0.15],\n",
    "    [\"ex5WholeMod.mp4\", 133, .15, 0.15],\n",
    "    [\"ex5WholeModF.mp4\", 133, .15, 0.15],\n",
    "    [\"ex6WholeMod.mp4\", 118, .15, 0.15],\n",
    "    [\"ex6WholeModF.mp4\", 118, .15, 0.15],\n",
    "    [\"ex7WholeMod.mp4\", 86, .15, 0.15],\n",
    "    [\"ex8WholeMod.mp4\", 112, .15, 0.15],\n",
    "    [\"ex8WholeModF.mp4\", 112, .15, 0.15],\n",
    "    [\"ex9WholeMod.mp4\", 121, .15, 0.15],\n",
    "    [\"ex10WholeMod.mp4\", 102, .15, 0.15]\n",
    "]\n",
    "\n",
    "for exercise, note_count, spec_thresh, min_time_between in exerciseNoteCounts:\n",
    "    ys, ts, sr = helpers.get_audio_data(exercise)\n",
    "\n",
    "    ts_fr, fr_freq_amps = helpers.magnitudeSpectrogram(ys, ts, sr)\n",
    "    ts_fr, spec_flux = helpers.computeSpectralFlux(ts_fr, fr_freq_amps, sr)\n",
    "\n",
    "    plt.title(exercise)\n",
    "    plt.xlabel(\"Time (s)\"); plt.ylabel(\"Spectral Flux\")\n",
    "    plt.plot(ts_fr, spec_flux, c=\"orange\")\n",
    "    img_path = Path.cwd() / \"spec_flux_graphs\" / f\"{exercise} Spectral Flux.png\"\n",
    "    plt.savefig(img_path)\n",
    "    plt.close()\n",
    "    \n",
    "    f0_frame_size = 2048\n",
    "    f0_hop_len = 512 \n",
    "    f0, voiced, _ = librosa.pyin(y=ys, sr=sr, fmin=librosa.note_to_hz('E3'), fmax=librosa.note_to_hz('C6'), frame_length=f0_frame_size, hop_length=f0_hop_len)\n",
    "    # f0 = gaussian_filter1d(f0, sigma=1)\n",
    "\n",
    "    onsets = helpers.detect_onsets(spec_flux, ts_fr, threshold=spec_thresh, min_time_between=min_time_between, f0=f0, sr=sr, voiced=voiced, hop_len=f0_hop_len)\n",
    "\n",
    "    print(f\"For exercise {exercise}, Note count Actual:\\t{note_count}, Note count Detected: \\t{len(onsets)} | Accuracy: \\t{min(note_count / len(onsets), len(onsets) / note_count)}\")"
   ]
  }
 ],
 "metadata": {
  "kernelspec": {
   "display_name": "DSP_ML",
   "language": "python",
   "name": "python3"
  },
  "language_info": {
   "codemirror_mode": {
    "name": "ipython",
    "version": 3
   },
   "file_extension": ".py",
   "mimetype": "text/x-python",
   "name": "python",
   "nbconvert_exporter": "python",
   "pygments_lexer": "ipython3",
   "version": "3.10.18"
  }
 },
 "nbformat": 4,
 "nbformat_minor": 5
}
